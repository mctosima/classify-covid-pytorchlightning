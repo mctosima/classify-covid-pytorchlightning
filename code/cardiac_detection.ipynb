{
 "cells": [
  {
   "cell_type": "code",
   "execution_count": 1,
   "metadata": {},
   "outputs": [],
   "source": [
    "from pathlib import Path\n",
    "import numpy as np\n",
    "import cv2\n",
    "import pandas as pd\n",
    "import matplotlib.pyplot as plt\n",
    "import matplotlib.patches as patches\n",
    "from matplotlib.lines import Line2D\n",
    "import torch\n",
    "from torch.utils.data import Dataset, DataLoader\n",
    "from sklearn.model_selection import train_test_split\n",
    "from random import randint\n",
    "import albumentations as A\n",
    "from albumentations.pytorch import ToTensorV2\n",
    "\n",
    "from pytorch_lightning import LightningModule, Trainer, seed_everything\n",
    "from pytorch_lightning.callbacks import LearningRateMonitor\n",
    "from pytorch_lightning.loggers import WandbLogger\n",
    "\n",
    "import torchvision\n",
    "from torchvision.ops import box_iou\n"
   ]
  },
  {
   "cell_type": "code",
   "execution_count": 2,
   "metadata": {},
   "outputs": [],
   "source": [
    "LABEL_CSV = Path(\"../data/cardiac_detection/rsna_heart_detection.csv\")\n",
    "IMAGE_CSV = Path(\"../data/cardiac_detection/processed/images\")"
   ]
  },
  {
   "cell_type": "code",
   "execution_count": 3,
   "metadata": {},
   "outputs": [
    {
     "name": "stdout",
     "output_type": "stream",
     "text": [
      "Length of train_df: 396 | Length of val_df: 100\n"
     ]
    },
    {
     "data": {
      "text/html": [
       "<div>\n",
       "<style scoped>\n",
       "    .dataframe tbody tr th:only-of-type {\n",
       "        vertical-align: middle;\n",
       "    }\n",
       "\n",
       "    .dataframe tbody tr th {\n",
       "        vertical-align: top;\n",
       "    }\n",
       "\n",
       "    .dataframe thead th {\n",
       "        text-align: right;\n",
       "    }\n",
       "</style>\n",
       "<table border=\"1\" class=\"dataframe\">\n",
       "  <thead>\n",
       "    <tr style=\"text-align: right;\">\n",
       "      <th></th>\n",
       "      <th>label</th>\n",
       "      <th>x0</th>\n",
       "      <th>y0</th>\n",
       "      <th>w</th>\n",
       "      <th>h</th>\n",
       "      <th>name</th>\n",
       "      <th>img_shape_x</th>\n",
       "      <th>img_shape_y</th>\n",
       "    </tr>\n",
       "  </thead>\n",
       "  <tbody>\n",
       "    <tr>\n",
       "      <th>0</th>\n",
       "      <td>heart</td>\n",
       "      <td>86</td>\n",
       "      <td>52</td>\n",
       "      <td>71</td>\n",
       "      <td>108</td>\n",
       "      <td>831d8a07-1024-42a3-af2c-181144351cab</td>\n",
       "      <td>224</td>\n",
       "      <td>224</td>\n",
       "    </tr>\n",
       "    <tr>\n",
       "      <th>1</th>\n",
       "      <td>heart</td>\n",
       "      <td>85</td>\n",
       "      <td>52</td>\n",
       "      <td>91</td>\n",
       "      <td>96</td>\n",
       "      <td>61008b44-a7ce-4870-b8e1-4f6f5c7df4d8</td>\n",
       "      <td>224</td>\n",
       "      <td>224</td>\n",
       "    </tr>\n",
       "    <tr>\n",
       "      <th>2</th>\n",
       "      <td>heart</td>\n",
       "      <td>92</td>\n",
       "      <td>66</td>\n",
       "      <td>80</td>\n",
       "      <td>96</td>\n",
       "      <td>c8111e21-a740-44c9-812a-a5f9982814c8</td>\n",
       "      <td>224</td>\n",
       "      <td>224</td>\n",
       "    </tr>\n",
       "    <tr>\n",
       "      <th>3</th>\n",
       "      <td>heart</td>\n",
       "      <td>89</td>\n",
       "      <td>74</td>\n",
       "      <td>102</td>\n",
       "      <td>91</td>\n",
       "      <td>81dca618-553d-4299-a4a0-e64f764bf69f</td>\n",
       "      <td>224</td>\n",
       "      <td>224</td>\n",
       "    </tr>\n",
       "    <tr>\n",
       "      <th>4</th>\n",
       "      <td>heart</td>\n",
       "      <td>88</td>\n",
       "      <td>68</td>\n",
       "      <td>80</td>\n",
       "      <td>95</td>\n",
       "      <td>8d85ff98-36a9-4763-9238-1fe184b8409e</td>\n",
       "      <td>224</td>\n",
       "      <td>224</td>\n",
       "    </tr>\n",
       "  </tbody>\n",
       "</table>\n",
       "</div>"
      ],
      "text/plain": [
       "   label  x0  y0    w    h                                  name  img_shape_x  \\\n",
       "0  heart  86  52   71  108  831d8a07-1024-42a3-af2c-181144351cab          224   \n",
       "1  heart  85  52   91   96  61008b44-a7ce-4870-b8e1-4f6f5c7df4d8          224   \n",
       "2  heart  92  66   80   96  c8111e21-a740-44c9-812a-a5f9982814c8          224   \n",
       "3  heart  89  74  102   91  81dca618-553d-4299-a4a0-e64f764bf69f          224   \n",
       "4  heart  88  68   80   95  8d85ff98-36a9-4763-9238-1fe184b8409e          224   \n",
       "\n",
       "   img_shape_y  \n",
       "0          224  \n",
       "1          224  \n",
       "2          224  \n",
       "3          224  \n",
       "4          224  "
      ]
     },
     "execution_count": 3,
     "metadata": {},
     "output_type": "execute_result"
    }
   ],
   "source": [
    "data_df = pd.read_csv(LABEL_CSV)\n",
    "train_df, val_df = train_test_split(data_df, test_size=0.2, random_state=42,)\n",
    "train_df = train_df.reset_index(drop=True)\n",
    "val_df = val_df.reset_index(drop=True)\n",
    "\n",
    "print(f\"Length of train_df: {len(train_df)} | Length of val_df: {len(val_df)}\")\n",
    "train_df.head()"
   ]
  },
  {
   "cell_type": "code",
   "execution_count": 4,
   "metadata": {},
   "outputs": [],
   "source": [
    "img_name = train_df.iloc[0,5] + \".npy\"\n",
    "img_path = IMAGE_CSV / img_name\n",
    "img = np.load(img_path)"
   ]
  },
  {
   "cell_type": "code",
   "execution_count": 5,
   "metadata": {},
   "outputs": [
    {
     "name": "stdout",
     "output_type": "stream",
     "text": [
      "Mean: 0.49076118854561235 | Std.Dev: 0.23536666715988006\n"
     ]
    }
   ],
   "source": [
    "# calculate mean and std.dev from all images\n",
    "mean = 0.\n",
    "std = 0.\n",
    "for i in range(len(train_df)):\n",
    "    img_name = train_df.iloc[i, 5] + \".npy\"\n",
    "    img_path = IMAGE_CSV / img_name\n",
    "    img = np.load(img_path)\n",
    "    mean += img.mean()\n",
    "    std += img.std()\n",
    "mean /= len(train_df)   # mean = mean / len(train_df)\n",
    "std /= len(train_df)    # std = std / len(train_df)\n",
    "print(f\"Mean: {mean} | Std.Dev: {std}\")"
   ]
  },
  {
   "cell_type": "code",
   "execution_count": 6,
   "metadata": {},
   "outputs": [
    {
     "data": {
      "text/plain": [
       "108"
      ]
     },
     "execution_count": 6,
     "metadata": {},
     "output_type": "execute_result"
    }
   ],
   "source": [
    "train_df.iloc[0,4]"
   ]
  },
  {
   "cell_type": "code",
   "execution_count": 7,
   "metadata": {},
   "outputs": [],
   "source": [
    "class CardiacDatareader(Dataset):\n",
    "    def __init__(self, df, aug=None):\n",
    "        self.df = df\n",
    "        self.aug = aug\n",
    "\n",
    "    def __len__(self):\n",
    "        return len(self.df)\n",
    "\n",
    "    def __getitem__(self, idx):\n",
    "        img_id = self.df.iloc[idx, 5]\n",
    "        img_data = np.load(IMAGE_CSV / f\"{img_id}.npy\").astype(np.float32)\n",
    "        \n",
    "        # bbox\n",
    "        x = self.df.iloc[idx, 1]\n",
    "        y = self.df.iloc[idx, 2]\n",
    "        xmax = x + self.df.iloc[idx, 3]\n",
    "        ymax = y + self.df.iloc[idx, 4]\n",
    "        bbox = [x, y, xmax, ymax]\n",
    "        label = [\"heart\"]\n",
    "\n",
    "        if self.aug:\n",
    "            bbox = bbox + label\n",
    "            transformed = self.aug(image=img_data, bboxes=[bbox])\n",
    "            img_data = transformed[\"image\"]\n",
    "            bbox = transformed[\"bboxes\"][0]\n",
    "            bbox = bbox[:4]\n",
    "            \n",
    "        img = img_data\n",
    "        bbox = torch.tensor(bbox, dtype=torch.float32)\n",
    "\n",
    "        # print(img.shape)\n",
    "        return img, bbox\n",
    "        # bbox = [x, y, xmax, ymax]"
   ]
  },
  {
   "cell_type": "code",
   "execution_count": 8,
   "metadata": {},
   "outputs": [],
   "source": [
    "# test = [1,2,3,4]\n",
    "# x = [\"Heart\"]\n",
    "# other = test + x\n",
    "# print(other)\n",
    "# another = other[0:3]\n",
    "# print(another)"
   ]
  },
  {
   "cell_type": "code",
   "execution_count": 9,
   "metadata": {},
   "outputs": [],
   "source": [
    "augment_image = A.Compose(\n",
    "    [\n",
    "        A.RandomScale(scale_limit=(0.8,1.2), p=0.5),\n",
    "        A.RandomGamma(p=0.5),\n",
    "        A.RandomBrightnessContrast(p=0.5),\n",
    "        A.Resize(224,224),\n",
    "        # A.Normalize(mean=mean, std=std),\n",
    "        ToTensorV2(p=1.0),\n",
    "    ],\n",
    "    bbox_params=A.BboxParams(format=\"pascal_voc\"),\n",
    ")"
   ]
  },
  {
   "cell_type": "code",
   "execution_count": 10,
   "metadata": {},
   "outputs": [
    {
     "name": "stdout",
     "output_type": "stream",
     "text": [
      "(224, 224)\n"
     ]
    },
    {
     "data": {
      "image/png": "[encoded data removed]",
      "text/plain": [
       "<Figure size 400x400 with 1 Axes>"
      ]
     },
     "metadata": {},
     "output_type": "display_data"
    }
   ],
   "source": [
    "dataset = CardiacDatareader(train_df, aug=augment_image)\n",
    "# get and preview random image\n",
    "img, bbox = dataset[randint(0, len(train_df))]\n",
    "img = img.detach().numpy().squeeze()\n",
    "print(img.shape)\n",
    "\n",
    "fig, ax = plt.subplots(1, figsize=(4, 4))\n",
    "ax.imshow(img, cmap=\"gray\")\n",
    "ax.add_patch(patches.Rectangle((bbox[0], bbox[1]), bbox[2]-bbox[0], bbox[3]-bbox[1], linewidth=2, edgecolor='r', facecolor='none'))\n",
    "ax.axis(\"off\")\n",
    "plt.show()"
   ]
  },
  {
   "cell_type": "code",
   "execution_count": 11,
   "metadata": {},
   "outputs": [],
   "source": [
    "class CardiacDetectionModel(LightningModule):\n",
    "    def __init__(self, lr=1e-3, batch_size=8, num_workers=4):\n",
    "        super().__init__()\n",
    "\n",
    "        # hyperparameters\n",
    "        self.lr = lr\n",
    "        self.batch_size = batch_size\n",
    "        self.num_workers = num_workers\n",
    "        \n",
    "        # Prepare the model\n",
    "        self.model = torchvision.models.resnet18(weights=\"DEFAULT\")\n",
    "        self.model.conv1 = torch.nn.Conv2d(1, 64, kernel_size=7, stride=2, padding=3, bias=False)\n",
    "        self.model.fc = torch.nn.Linear(in_features=512, out_features=4)\n",
    "\n",
    "        # loss function\n",
    "        self.loss_fn = torch.nn.MSELoss()\n",
    "        self.save_hyperparameters()\n",
    "\n",
    "\n",
    "    def forward(self, x):\n",
    "        return self.model(x)\n",
    "\n",
    "    def configure_optimizers(self):\n",
    "        optimizer = torch.optim.AdamW(self.parameters(), lr=self.lr)\n",
    "        scheduler = torch.optim.lr_scheduler.CosineAnnealingWarmRestarts(optimizer, T_0=10, T_mult=1, eta_min=1e-6, last_epoch=-1)\n",
    "        return {\"optimizer\": optimizer, \"lr_scheduler\": scheduler, \"monitor\": \"val_loss\"}\n",
    "        # return optimizer\n",
    "        \n",
    "    def train_dataloader(self):\n",
    "        train_dataset = CardiacDatareader(train_df, aug=augment_image)\n",
    "        train_loader = DataLoader(train_dataset, batch_size=self.batch_size, shuffle=True, num_workers=self.num_workers)\n",
    "        return train_loader\n",
    "\n",
    "    def training_step(self, batch, batch_idx):\n",
    "        x, label = batch\n",
    "        # print(x.shape)\n",
    "        label = label.float()\n",
    "        pred = self(x)\n",
    "        loss = self.loss_fn(pred, label)\n",
    "        return {\"loss\": loss}\n",
    "\n",
    "    def training_epoch_end(self, outputs):\n",
    "        avg_loss = torch.stack([x[\"loss\"] for x in outputs]).mean()\n",
    "        self.log(\"train_loss\", avg_loss, batch_size=self.batch_size, on_step=False, on_epoch=True, prog_bar=True)\n",
    "        print(f\"Train Loss on Epoch {self.current_epoch}: {avg_loss}\")\n",
    "\n",
    "    def val_dataloader(self):\n",
    "        val_dataset = CardiacDatareader(val_df)\n",
    "        val_loader = DataLoader(val_dataset, batch_size=self.batch_size, shuffle=False, num_workers=self.num_workers)\n",
    "        return val_loader\n",
    "\n",
    "    def validation_step(self, batch, batch_idx):\n",
    "        x, label = batch\n",
    "        x = x.unsqueeze(1)\n",
    "        label = label.float()\n",
    "        pred = self(x)\n",
    "        loss = self.loss_fn(pred, label)\n",
    "        batch_iou_list = []\n",
    "        for i in range(len(pred)):\n",
    "            pred_box = pred[i].expand(1,4)\n",
    "            label_box = label[i].expand(1,4)\n",
    "            iou = box_iou(pred_box, label_box)\n",
    "            batch_iou_list.append(iou)\n",
    "        batch_iou = torch.stack(batch_iou_list).mean()\n",
    "        return {\"val_loss\": loss, \"val_iou\": batch_iou}\n",
    "\n",
    "    def validation_epoch_end(self, outputs):\n",
    "        avg_loss = torch.stack([x[\"val_loss\"] for x in outputs]).mean()\n",
    "        avg_iou = torch.stack([x[\"val_iou\"] for x in outputs]).mean()\n",
    "        self.log(\"val_loss\", avg_loss, batch_size=self.batch_size, on_step=False, on_epoch=True, prog_bar=True)\n",
    "        self.log(\"val_iou\", avg_iou, batch_size=self.batch_size, on_step=False, on_epoch=True, prog_bar=True)\n",
    "        print(f\"Epoch {self.current_epoch}: Val Loss: {avg_loss:.2f}, Val IoU: {avg_iou:.3f}\")"
   ]
  },
  {
   "cell_type": "code",
   "execution_count": 12,
   "metadata": {},
   "outputs": [
    {
     "name": "stderr",
     "output_type": "stream",
     "text": [
      "Global seed set to 0\n",
      "Failed to detect the name of this notebook, you can set it manually with the WANDB_NOTEBOOK_NAME environment variable to enable code saving.\n",
      "\u001b[34m\u001b[1mwandb\u001b[0m: Currently logged in as: \u001b[33mmctosima\u001b[0m. Use \u001b[1m`wandb login --relogin`\u001b[0m to force relogin\n"
     ]
    },
    {
     "data": {
      "text/html": [
       "wandb version 0.13.3 is available!  To upgrade, please run:\n",
       " $ pip install wandb --upgrade"
      ],
      "text/plain": [
       "<IPython.core.display.HTML object>"
      ]
     },
     "metadata": {},
     "output_type": "display_data"
    },
    {
     "data": {
      "text/html": [
       "Tracking run with wandb version 0.13.2"
      ],
      "text/plain": [
       "<IPython.core.display.HTML object>"
      ]
     },
     "metadata": {},
     "output_type": "display_data"
    },
    {
     "data": {
      "text/html": [
       "Run data is saved locally in <code>/home/bestlabmct/Developers/classify-covid-pytorchlightning/code/wandb/run-20221005_141902-2mio2rkx</code>"
      ],
      "text/plain": [
       "<IPython.core.display.HTML object>"
      ]
     },
     "metadata": {},
     "output_type": "display_data"
    },
    {
     "data": {
      "text/html": [
       "Syncing run <strong><a href=\"https://wandb.ai/mctosima/cardiac-detection/runs/2mio2rkx\" target=\"_blank\">rural-energy-13</a></strong> to <a href=\"https://wandb.ai/mctosima/cardiac-detection\" target=\"_blank\">Weights & Biases</a> (<a href=\"https://wandb.me/run\" target=\"_blank\">docs</a>)<br/>"
      ],
      "text/plain": [
       "<IPython.core.display.HTML object>"
      ]
     },
     "metadata": {},
     "output_type": "display_data"
    },
    {
     "name": "stderr",
     "output_type": "stream",
     "text": [
      "\u001b[34m\u001b[1mwandb\u001b[0m: logging graph, to disable use `wandb.watch(log_graph=False)`\n",
      "Using 16bit native Automatic Mixed Precision (AMP)\n",
      "GPU available: True (cuda), used: True\n",
      "TPU available: False, using: 0 TPU cores\n",
      "IPU available: False, using: 0 IPUs\n",
      "HPU available: False, using: 0 HPUs\n",
      "LOCAL_RANK: 0 - CUDA_VISIBLE_DEVICES: [0]\n",
      "\n",
      "  | Name    | Type    | Params\n",
      "------------------------------------\n",
      "0 | model   | ResNet  | 11.2 M\n",
      "1 | loss_fn | MSELoss | 0     \n",
      "------------------------------------\n",
      "11.2 M    Trainable params\n",
      "0         Non-trainable params\n",
      "11.2 M    Total params\n",
      "22.345    Total estimated model params size (MB)\n"
     ]
    },
    {
     "data": {
      "application/vnd.jupyter.widget-view+json": {
       "model_id": "79a6a81887e74e6a8e63b0b960c25660",
       "version_major": 2,
       "version_minor": 0
      },
      "text/plain": [
       "Training: 0it [00:00, ?it/s]"
      ]
     },
     "metadata": {},
     "output_type": "display_data"
    },
    {
     "data": {
      "application/vnd.jupyter.widget-view+json": {
       "model_id": "e83eb1cabc324aa5b9172d61123e0b9a",
       "version_major": 2,
       "version_minor": 0
      },
      "text/plain": [
       "Validation: 0it [00:00, ?it/s]"
      ]
     },
     "metadata": {},
     "output_type": "display_data"
    },
    {
     "name": "stdout",
     "output_type": "stream",
     "text": [
      "Epoch 0: Val Loss: 15645.16, Val IoU: 0.000\n",
      "Train Loss on Epoch 0: 16480.779296875\n"
     ]
    },
    {
     "data": {
      "application/vnd.jupyter.widget-view+json": {
       "model_id": "89343a97ff7a44ca90662f33a83b78d4",
       "version_major": 2,
       "version_minor": 0
      },
      "text/plain": [
       "Validation: 0it [00:00, ?it/s]"
      ]
     },
     "metadata": {},
     "output_type": "display_data"
    },
    {
     "name": "stdout",
     "output_type": "stream",
     "text": [
      "Epoch 1: Val Loss: 14831.23, Val IoU: 0.000\n",
      "Train Loss on Epoch 1: 15682.0947265625\n"
     ]
    },
    {
     "data": {
      "application/vnd.jupyter.widget-view+json": {
       "model_id": "94468225769841db9e3e791bfa8ffc9b",
       "version_major": 2,
       "version_minor": 0
      },
      "text/plain": [
       "Validation: 0it [00:00, ?it/s]"
      ]
     },
     "metadata": {},
     "output_type": "display_data"
    },
    {
     "name": "stdout",
     "output_type": "stream",
     "text": [
      "Epoch 2: Val Loss: 14267.66, Val IoU: 0.000\n",
      "Train Loss on Epoch 2: 15036.8330078125\n"
     ]
    },
    {
     "data": {
      "application/vnd.jupyter.widget-view+json": {
       "model_id": "58c2a3e7458146b29c5da5b91744e599",
       "version_major": 2,
       "version_minor": 0
      },
      "text/plain": [
       "Validation: 0it [00:00, ?it/s]"
      ]
     },
     "metadata": {},
     "output_type": "display_data"
    },
    {
     "name": "stdout",
     "output_type": "stream",
     "text": [
      "Epoch 3: Val Loss: 13743.79, Val IoU: 0.000\n",
      "Train Loss on Epoch 3: 14414.6474609375\n"
     ]
    },
    {
     "data": {
      "application/vnd.jupyter.widget-view+json": {
       "model_id": "545a6255a08c4386bc38f97b25725f3d",
       "version_major": 2,
       "version_minor": 0
      },
      "text/plain": [
       "Validation: 0it [00:00, ?it/s]"
      ]
     },
     "metadata": {},
     "output_type": "display_data"
    },
    {
     "name": "stdout",
     "output_type": "stream",
     "text": [
      "Epoch 4: Val Loss: 13226.38, Val IoU: 0.000\n",
      "Train Loss on Epoch 4: 13886.1767578125\n"
     ]
    },
    {
     "data": {
      "application/vnd.jupyter.widget-view+json": {
       "model_id": "884b3aab17da44d0a28f6a6067b2e1ae",
       "version_major": 2,
       "version_minor": 0
      },
      "text/plain": [
       "Validation: 0it [00:00, ?it/s]"
      ]
     },
     "metadata": {},
     "output_type": "display_data"
    },
    {
     "name": "stdout",
     "output_type": "stream",
     "text": [
      "Epoch 5: Val Loss: 12893.17, Val IoU: 0.000\n",
      "Train Loss on Epoch 5: 13456.4921875\n"
     ]
    },
    {
     "data": {
      "application/vnd.jupyter.widget-view+json": {
       "model_id": "cd87b44302b34c708461724f359559fe",
       "version_major": 2,
       "version_minor": 0
      },
      "text/plain": [
       "Validation: 0it [00:00, ?it/s]"
      ]
     },
     "metadata": {},
     "output_type": "display_data"
    },
    {
     "name": "stdout",
     "output_type": "stream",
     "text": [
      "Epoch 6: Val Loss: 12609.22, Val IoU: 0.000\n",
      "Train Loss on Epoch 6: 13119.3583984375\n"
     ]
    },
    {
     "data": {
      "application/vnd.jupyter.widget-view+json": {
       "model_id": "fa9e07e5bbbb4d9e9c13b8baa0e76df2",
       "version_major": 2,
       "version_minor": 0
      },
      "text/plain": [
       "Validation: 0it [00:00, ?it/s]"
      ]
     },
     "metadata": {},
     "output_type": "display_data"
    },
    {
     "name": "stdout",
     "output_type": "stream",
     "text": [
      "Epoch 7: Val Loss: 12448.18, Val IoU: 0.000\n",
      "Train Loss on Epoch 7: 12922.330078125\n"
     ]
    },
    {
     "data": {
      "application/vnd.jupyter.widget-view+json": {
       "model_id": "585f79ae37f74561a419047c1961c196",
       "version_major": 2,
       "version_minor": 0
      },
      "text/plain": [
       "Validation: 0it [00:00, ?it/s]"
      ]
     },
     "metadata": {},
     "output_type": "display_data"
    },
    {
     "name": "stdout",
     "output_type": "stream",
     "text": [
      "Epoch 8: Val Loss: 12384.40, Val IoU: 0.000\n",
      "Train Loss on Epoch 8: 12778.8369140625\n"
     ]
    },
    {
     "data": {
      "application/vnd.jupyter.widget-view+json": {
       "model_id": "f5240e3af08f43ba8e92ba83cb7934a2",
       "version_major": 2,
       "version_minor": 0
      },
      "text/plain": [
       "Validation: 0it [00:00, ?it/s]"
      ]
     },
     "metadata": {},
     "output_type": "display_data"
    },
    {
     "name": "stdout",
     "output_type": "stream",
     "text": [
      "Epoch 9: Val Loss: 12390.27, Val IoU: 0.000\n",
      "Train Loss on Epoch 9: 12729.3046875\n"
     ]
    },
    {
     "data": {
      "application/vnd.jupyter.widget-view+json": {
       "model_id": "6e194703bf664778911ad6ef0d9f5e49",
       "version_major": 2,
       "version_minor": 0
      },
      "text/plain": [
       "Validation: 0it [00:00, ?it/s]"
      ]
     },
     "metadata": {},
     "output_type": "display_data"
    },
    {
     "name": "stdout",
     "output_type": "stream",
     "text": [
      "Epoch 10: Val Loss: 11610.67, Val IoU: 0.000\n",
      "Train Loss on Epoch 10: 12358.53125\n"
     ]
    },
    {
     "data": {
      "application/vnd.jupyter.widget-view+json": {
       "model_id": "5a1081e1321b4eb28ba8dad62f55fbf0",
       "version_major": 2,
       "version_minor": 0
      },
      "text/plain": [
       "Validation: 0it [00:00, ?it/s]"
      ]
     },
     "metadata": {},
     "output_type": "display_data"
    },
    {
     "name": "stdout",
     "output_type": "stream",
     "text": [
      "Epoch 11: Val Loss: 10859.08, Val IoU: 0.000\n",
      "Train Loss on Epoch 11: 11617.5419921875\n"
     ]
    },
    {
     "data": {
      "application/vnd.jupyter.widget-view+json": {
       "model_id": "cd93a10191564f249e50f53a29d12242",
       "version_major": 2,
       "version_minor": 0
      },
      "text/plain": [
       "Validation: 0it [00:00, ?it/s]"
      ]
     },
     "metadata": {},
     "output_type": "display_data"
    },
    {
     "name": "stdout",
     "output_type": "stream",
     "text": [
      "Epoch 12: Val Loss: 10365.95, Val IoU: 0.000\n",
      "Train Loss on Epoch 12: 10897.466796875\n"
     ]
    },
    {
     "data": {
      "application/vnd.jupyter.widget-view+json": {
       "model_id": "773b548f6e234d74832a334dd75efa49",
       "version_major": 2,
       "version_minor": 0
      },
      "text/plain": [
       "Validation: 0it [00:00, ?it/s]"
      ]
     },
     "metadata": {},
     "output_type": "display_data"
    },
    {
     "name": "stdout",
     "output_type": "stream",
     "text": [
      "Epoch 13: Val Loss: 9669.91, Val IoU: 0.000\n",
      "Train Loss on Epoch 13: 10265.8076171875\n"
     ]
    },
    {
     "data": {
      "application/vnd.jupyter.widget-view+json": {
       "model_id": "6f51a943ea8f4dd8a32231d18a5b9968",
       "version_major": 2,
       "version_minor": 0
      },
      "text/plain": [
       "Validation: 0it [00:00, ?it/s]"
      ]
     },
     "metadata": {},
     "output_type": "display_data"
    },
    {
     "name": "stdout",
     "output_type": "stream",
     "text": [
      "Epoch 14: Val Loss: 9045.08, Val IoU: 0.000\n",
      "Train Loss on Epoch 14: 9748.044921875\n"
     ]
    },
    {
     "data": {
      "application/vnd.jupyter.widget-view+json": {
       "model_id": "5e57b41d3d0e4e4b9ccfcab22bc7e06b",
       "version_major": 2,
       "version_minor": 0
      },
      "text/plain": [
       "Validation: 0it [00:00, ?it/s]"
      ]
     },
     "metadata": {},
     "output_type": "display_data"
    },
    {
     "name": "stdout",
     "output_type": "stream",
     "text": [
      "Epoch 15: Val Loss: 8749.64, Val IoU: 0.000\n",
      "Train Loss on Epoch 15: 9324.291015625\n"
     ]
    },
    {
     "data": {
      "application/vnd.jupyter.widget-view+json": {
       "model_id": "c2087cd5a7ec4daaa14ed7603bac776c",
       "version_major": 2,
       "version_minor": 0
      },
      "text/plain": [
       "Validation: 0it [00:00, ?it/s]"
      ]
     },
     "metadata": {},
     "output_type": "display_data"
    },
    {
     "name": "stdout",
     "output_type": "stream",
     "text": [
      "Epoch 16: Val Loss: 8659.96, Val IoU: 0.000\n",
      "Train Loss on Epoch 16: 9034.205078125\n"
     ]
    },
    {
     "data": {
      "application/vnd.jupyter.widget-view+json": {
       "model_id": "d82ee221048b4e7cae030bb568125bfb",
       "version_major": 2,
       "version_minor": 0
      },
      "text/plain": [
       "Validation: 0it [00:00, ?it/s]"
      ]
     },
     "metadata": {},
     "output_type": "display_data"
    },
    {
     "name": "stdout",
     "output_type": "stream",
     "text": [
      "Epoch 17: Val Loss: 8469.15, Val IoU: 0.000\n",
      "Train Loss on Epoch 17: 8829.486328125\n"
     ]
    },
    {
     "data": {
      "application/vnd.jupyter.widget-view+json": {
       "model_id": "61d149ff98a14cafa18c4e8039daa455",
       "version_major": 2,
       "version_minor": 0
      },
      "text/plain": [
       "Validation: 0it [00:00, ?it/s]"
      ]
     },
     "metadata": {},
     "output_type": "display_data"
    },
    {
     "name": "stdout",
     "output_type": "stream",
     "text": [
      "Epoch 18: Val Loss: 8537.40, Val IoU: 0.000\n",
      "Train Loss on Epoch 18: 8748.56640625\n"
     ]
    },
    {
     "data": {
      "application/vnd.jupyter.widget-view+json": {
       "model_id": "afbbfb12aa604e09b2ebd73545be5826",
       "version_major": 2,
       "version_minor": 0
      },
      "text/plain": [
       "Validation: 0it [00:00, ?it/s]"
      ]
     },
     "metadata": {},
     "output_type": "display_data"
    },
    {
     "name": "stdout",
     "output_type": "stream",
     "text": [
      "Epoch 19: Val Loss: 8424.98, Val IoU: 0.000\n",
      "Train Loss on Epoch 19: 8683.658203125\n"
     ]
    },
    {
     "data": {
      "application/vnd.jupyter.widget-view+json": {
       "model_id": "64ca86669f5948508ff977a25b69f7ef",
       "version_major": 2,
       "version_minor": 0
      },
      "text/plain": [
       "Validation: 0it [00:00, ?it/s]"
      ]
     },
     "metadata": {},
     "output_type": "display_data"
    },
    {
     "name": "stdout",
     "output_type": "stream",
     "text": [
      "Epoch 20: Val Loss: 7989.57, Val IoU: 0.000\n",
      "Train Loss on Epoch 20: 8366.115234375\n"
     ]
    },
    {
     "data": {
      "application/vnd.jupyter.widget-view+json": {
       "model_id": "5bc227e86cb14b06a1745001a18dca48",
       "version_major": 2,
       "version_minor": 0
      },
      "text/plain": [
       "Validation: 0it [00:00, ?it/s]"
      ]
     },
     "metadata": {},
     "output_type": "display_data"
    },
    {
     "name": "stdout",
     "output_type": "stream",
     "text": [
      "Epoch 21: Val Loss: 7316.35, Val IoU: 0.000\n",
      "Train Loss on Epoch 21: 7770.75146484375\n"
     ]
    },
    {
     "data": {
      "application/vnd.jupyter.widget-view+json": {
       "model_id": "1d520cd82d634ee2a0ef948008ed8e7d",
       "version_major": 2,
       "version_minor": 0
      },
      "text/plain": [
       "Validation: 0it [00:00, ?it/s]"
      ]
     },
     "metadata": {},
     "output_type": "display_data"
    },
    {
     "name": "stdout",
     "output_type": "stream",
     "text": [
      "Epoch 22: Val Loss: 7069.33, Val IoU: 0.000\n",
      "Train Loss on Epoch 22: 7223.37353515625\n"
     ]
    },
    {
     "data": {
      "application/vnd.jupyter.widget-view+json": {
       "model_id": "7b4901efe5704b50be28a266cb8bc3e4",
       "version_major": 2,
       "version_minor": 0
      },
      "text/plain": [
       "Validation: 0it [00:00, ?it/s]"
      ]
     },
     "metadata": {},
     "output_type": "display_data"
    },
    {
     "name": "stdout",
     "output_type": "stream",
     "text": [
      "Epoch 23: Val Loss: 6242.90, Val IoU: 0.000\n",
      "Train Loss on Epoch 23: 6757.40380859375\n"
     ]
    },
    {
     "data": {
      "application/vnd.jupyter.widget-view+json": {
       "model_id": "a4984f7e9a544b1a80a6bb44da1e82c9",
       "version_major": 2,
       "version_minor": 0
      },
      "text/plain": [
       "Validation: 0it [00:00, ?it/s]"
      ]
     },
     "metadata": {},
     "output_type": "display_data"
    },
    {
     "name": "stdout",
     "output_type": "stream",
     "text": [
      "Epoch 24: Val Loss: 6193.03, Val IoU: 0.000\n",
      "Train Loss on Epoch 24: 6361.3798828125\n"
     ]
    },
    {
     "data": {
      "application/vnd.jupyter.widget-view+json": {
       "model_id": "777ee1be57af4b438379a4b41caa9645",
       "version_major": 2,
       "version_minor": 0
      },
      "text/plain": [
       "Validation: 0it [00:00, ?it/s]"
      ]
     },
     "metadata": {},
     "output_type": "display_data"
    },
    {
     "name": "stdout",
     "output_type": "stream",
     "text": [
      "Epoch 25: Val Loss: 5714.45, Val IoU: 0.000\n",
      "Train Loss on Epoch 25: 6064.6875\n"
     ]
    },
    {
     "data": {
      "application/vnd.jupyter.widget-view+json": {
       "model_id": "db995790024541768b4816b46c8ae3f4",
       "version_major": 2,
       "version_minor": 0
      },
      "text/plain": [
       "Validation: 0it [00:00, ?it/s]"
      ]
     },
     "metadata": {},
     "output_type": "display_data"
    },
    {
     "name": "stdout",
     "output_type": "stream",
     "text": [
      "Epoch 26: Val Loss: 5665.39, Val IoU: 0.000\n",
      "Train Loss on Epoch 26: 5868.7822265625\n"
     ]
    },
    {
     "data": {
      "application/vnd.jupyter.widget-view+json": {
       "model_id": "4eba575c9a0442359240988fc1caec45",
       "version_major": 2,
       "version_minor": 0
      },
      "text/plain": [
       "Validation: 0it [00:00, ?it/s]"
      ]
     },
     "metadata": {},
     "output_type": "display_data"
    },
    {
     "name": "stdout",
     "output_type": "stream",
     "text": [
      "Epoch 27: Val Loss: 5410.40, Val IoU: 0.000\n",
      "Train Loss on Epoch 27: 5721.43212890625\n"
     ]
    },
    {
     "data": {
      "application/vnd.jupyter.widget-view+json": {
       "model_id": "6387fa3ba9604556a8532be77c413fb2",
       "version_major": 2,
       "version_minor": 0
      },
      "text/plain": [
       "Validation: 0it [00:00, ?it/s]"
      ]
     },
     "metadata": {},
     "output_type": "display_data"
    },
    {
     "name": "stdout",
     "output_type": "stream",
     "text": [
      "Epoch 28: Val Loss: 5576.02, Val IoU: 0.000\n",
      "Train Loss on Epoch 28: 5642.197265625\n"
     ]
    },
    {
     "data": {
      "application/vnd.jupyter.widget-view+json": {
       "model_id": "60153764291f4601bd7ac9910810c92c",
       "version_major": 2,
       "version_minor": 0
      },
      "text/plain": [
       "Validation: 0it [00:00, ?it/s]"
      ]
     },
     "metadata": {},
     "output_type": "display_data"
    },
    {
     "name": "stdout",
     "output_type": "stream",
     "text": [
      "Epoch 29: Val Loss: 5523.44, Val IoU: 0.000\n",
      "Train Loss on Epoch 29: 5621.1826171875\n"
     ]
    },
    {
     "name": "stderr",
     "output_type": "stream",
     "text": [
      "`Trainer.fit` stopped: `max_epochs=30` reached.\n"
     ]
    }
   ],
   "source": [
    "model = CardiacDetectionModel(lr=1e-3, batch_size=8, num_workers=8)\n",
    "\n",
    "seed_everything(0)\n",
    "lr_monitor = LearningRateMonitor(logging_interval=\"epoch\")\n",
    "wandb_logger = WandbLogger(project=\"cardiac-detection\", log_model=False)\n",
    "wandb_logger.watch(model)\n",
    "\n",
    "trainer = Trainer(\n",
    "    accelerator='gpu',\n",
    "    devices=1,\n",
    "    max_epochs=30,\n",
    "    precision=16,\n",
    "    enable_progress_bar=True,\n",
    "    num_sanity_val_steps=0,\n",
    "    callbacks=[lr_monitor],\n",
    "    fast_dev_run=False,\n",
    "    logger=wandb_logger,\n",
    ")\n",
    "\n",
    "trainer.fit(model)\n",
    "\n",
    "save_model_name = \"../models/cardiac_detection_model.pt\"\n",
    "torch.save(model.state_dict(), save_model_name)"
   ]
  },
  {
   "cell_type": "code",
   "execution_count": 31,
   "metadata": {},
   "outputs": [],
   "source": [
    "test_dataset = CardiacDatareader(val_df)\n",
    "test_loader = DataLoader(test_dataset, batch_size=1, shuffle=True, num_workers=4)"
   ]
  },
  {
   "cell_type": "code",
   "execution_count": 32,
   "metadata": {},
   "outputs": [
    {
     "name": "stdout",
     "output_type": "stream",
     "text": [
      "Input shape: torch.Size([1, 224, 224]) | Label shape: torch.Size([1, 4])\n",
      "Label Bbox: tensor([[ 89.,  54., 177., 133.]])\n"
     ]
    }
   ],
   "source": [
    "batch = next(iter(test_loader))\n",
    "x, label = batch\n",
    "print(f\"Input shape: {x.shape} | Label shape: {label.shape}\")\n",
    "print(f\"Label Bbox: {label}\")"
   ]
  },
  {
   "cell_type": "code",
   "execution_count": 33,
   "metadata": {},
   "outputs": [],
   "source": [
    "class CardiacDetectionInference(LightningModule):\n",
    "    def __init__(self):\n",
    "        super().__init__()\n",
    "        # Prepare the model\n",
    "        model = torchvision.models.resnet18(weights=\"DEFAULT\")\n",
    "        model.conv1 = torch.nn.Conv2d(1, 64, kernel_size=7, stride=2, padding=3, bias=False)\n",
    "        model.fc = torch.nn.Linear(in_features=512, out_features=4)\n",
    "        self.model = model\n",
    "    \n",
    "    def forward(self, x):\n",
    "        return self.model(x)"
   ]
  },
  {
   "cell_type": "code",
   "execution_count": 34,
   "metadata": {},
   "outputs": [],
   "source": [
    "model = CardiacDetectionInference()\n",
    "model.load_state_dict(torch.load(\"../models/cardiac_detection_model_better.pt\"))\n",
    "model.eval()\n",
    "x = x.unsqueeze(0)\n",
    "pred = model(x)"
   ]
  },
  {
   "cell_type": "code",
   "execution_count": 35,
   "metadata": {},
   "outputs": [
    {
     "name": "stdout",
     "output_type": "stream",
     "text": [
      "Pred IoU: 0.8738664388656616\n"
     ]
    }
   ],
   "source": [
    "pred = pred.cpu().detach()\n",
    "iou_score = box_iou(pred, label).item()\n",
    "pred = pred.squeeze()\n",
    "label = label.squeeze()\n",
    "print(f\"Pred IoU: {iou_score}\")"
   ]
  },
  {
   "cell_type": "code",
   "execution_count": 36,
   "metadata": {},
   "outputs": [
    {
     "data": {
      "image/png": "[encoded data removed]",
      "text/plain": [
       "<Figure size 400x400 with 1 Axes>"
      ]
     },
     "metadata": {},
     "output_type": "display_data"
    }
   ],
   "source": [
    "plt.figure(figsize=(4,4))\n",
    "plt.title(f\"IoU: {iou_score:.3f}\")\n",
    "plt.imshow(x.squeeze(), cmap=\"gray\")\n",
    "bbox_pred = patches.Rectangle((pred[0], pred[1]), pred[2]-pred[0], pred[3]-pred[1], linewidth=2, edgecolor='r', facecolor='none')\n",
    "bbox_label = patches.Rectangle((label[0], label[1]), label[2]-label[0], label[3]-label[1], linewidth=2, edgecolor='b', facecolor='none')\n",
    "plt.gca().add_patch(bbox_pred)\n",
    "plt.gca().add_patch(bbox_label)\n",
    "plt.axis(\"off\")\n",
    "legend_elements = [Line2D([0], [0], marker='o', color='w', label='Pred', markerfacecolor='r', markersize=10),\n",
    "                     Line2D([0], [0], marker='o', color='w', label='Label', markerfacecolor='b', markersize=10)]\n",
    "plt.legend(handles=legend_elements, loc='upper right')\n",
    "plt.show()"
   ]
  }
 ],
 "metadata": {
  "kernelspec": {
   "display_name": "Python 3.8.13 ('pytorch112_py38')",
   "language": "python",
   "name": "python3"
  },
  "language_info": {
   "codemirror_mode": {
    "name": "ipython",
    "version": 3
   },
   "file_extension": ".py",
   "mimetype": "text/x-python",
   "name": "python",
   "nbconvert_exporter": "python",
   "pygments_lexer": "ipython3",
   "version": "3.8.13"
  },
  "orig_nbformat": 4,
  "vscode": {
   "interpreter": {
    "hash": "176e86e6e21052ff89627b8e89e4f48b2aef17a8606feae6b75037084a2df81a"
   }
  }
 },
 "nbformat": 4,
 "nbformat_minor": 2
}
