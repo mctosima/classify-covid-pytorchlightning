{
 "cells": [
  {
   "cell_type": "markdown",
   "metadata": {},
   "source": [
    "Preprocessing XRAY images for Cardiac Detection\n",
    "---\n",
    "- [Dataset Source](https://www.kaggle.com/competitions/rsna-pneumonia-detection-challenge/data)\n",
    "- [Label Source](https://github.com/fshnkarimi/Cardiac-Detection)\n",
    "\n",
    "##### Import"
   ]
  },
  {
   "cell_type": "code",
   "execution_count": 1,
   "metadata": {},
   "outputs": [],
   "source": [
    "from pathlib import Path\n",
    "import pydicom\n",
    "import numpy as np\n",
    "import cv2\n",
    "import pandas as pd\n",
    "import matplotlib.pyplot as plt\n",
    "import matplotlib.patches as patches"
   ]
  },
  {
   "cell_type": "markdown",
   "metadata": {},
   "source": [
    "##### Load Ground Truth"
   ]
  },
  {
   "cell_type": "code",
   "execution_count": 2,
   "metadata": {},
   "outputs": [
    {
     "data": {
      "text/html": [
       "<div>\n",
       "<style scoped>\n",
       "    .dataframe tbody tr th:only-of-type {\n",
       "        vertical-align: middle;\n",
       "    }\n",
       "\n",
       "    .dataframe tbody tr th {\n",
       "        vertical-align: top;\n",
       "    }\n",
       "\n",
       "    .dataframe thead th {\n",
       "        text-align: right;\n",
       "    }\n",
       "</style>\n",
       "<table border=\"1\" class=\"dataframe\">\n",
       "  <thead>\n",
       "    <tr style=\"text-align: right;\">\n",
       "      <th></th>\n",
       "      <th>label</th>\n",
       "      <th>x0</th>\n",
       "      <th>y0</th>\n",
       "      <th>w</th>\n",
       "      <th>h</th>\n",
       "      <th>name</th>\n",
       "      <th>img_shape_x</th>\n",
       "      <th>img_shape_y</th>\n",
       "    </tr>\n",
       "  </thead>\n",
       "  <tbody>\n",
       "    <tr>\n",
       "      <th>0</th>\n",
       "      <td>heart</td>\n",
       "      <td>91</td>\n",
       "      <td>71</td>\n",
       "      <td>77</td>\n",
       "      <td>102</td>\n",
       "      <td>ca112a3c-b701-48b8-a94f-725ea65416a7</td>\n",
       "      <td>224</td>\n",
       "      <td>224</td>\n",
       "    </tr>\n",
       "    <tr>\n",
       "      <th>1</th>\n",
       "      <td>heart</td>\n",
       "      <td>70</td>\n",
       "      <td>64</td>\n",
       "      <td>89</td>\n",
       "      <td>67</td>\n",
       "      <td>e5f292ae-f1e5-497c-b0a0-68f1aa2196b2</td>\n",
       "      <td>224</td>\n",
       "      <td>224</td>\n",
       "    </tr>\n",
       "    <tr>\n",
       "      <th>2</th>\n",
       "      <td>heart</td>\n",
       "      <td>82</td>\n",
       "      <td>55</td>\n",
       "      <td>81</td>\n",
       "      <td>76</td>\n",
       "      <td>67af68f7-7ba0-49a0-a373-3a8801eb0faa</td>\n",
       "      <td>224</td>\n",
       "      <td>224</td>\n",
       "    </tr>\n",
       "    <tr>\n",
       "      <th>3</th>\n",
       "      <td>heart</td>\n",
       "      <td>93</td>\n",
       "      <td>74</td>\n",
       "      <td>78</td>\n",
       "      <td>89</td>\n",
       "      <td>814289a3-9ce8-4cba-842f-45d6a36f540d</td>\n",
       "      <td>224</td>\n",
       "      <td>224</td>\n",
       "    </tr>\n",
       "    <tr>\n",
       "      <th>4</th>\n",
       "      <td>heart</td>\n",
       "      <td>85</td>\n",
       "      <td>61</td>\n",
       "      <td>85</td>\n",
       "      <td>93</td>\n",
       "      <td>e508969f-c931-462b-aa90-ccde34a4d9e5</td>\n",
       "      <td>224</td>\n",
       "      <td>224</td>\n",
       "    </tr>\n",
       "  </tbody>\n",
       "</table>\n",
       "</div>"
      ],
      "text/plain": [
       "   label  x0  y0   w    h                                  name  img_shape_x  \\\n",
       "0  heart  91  71  77  102  ca112a3c-b701-48b8-a94f-725ea65416a7          224   \n",
       "1  heart  70  64  89   67  e5f292ae-f1e5-497c-b0a0-68f1aa2196b2          224   \n",
       "2  heart  82  55  81   76  67af68f7-7ba0-49a0-a373-3a8801eb0faa          224   \n",
       "3  heart  93  74  78   89  814289a3-9ce8-4cba-842f-45d6a36f540d          224   \n",
       "4  heart  85  61  85   93  e508969f-c931-462b-aa90-ccde34a4d9e5          224   \n",
       "\n",
       "   img_shape_y  \n",
       "0          224  \n",
       "1          224  \n",
       "2          224  \n",
       "3          224  \n",
       "4          224  "
      ]
     },
     "execution_count": 2,
     "metadata": {},
     "output_type": "execute_result"
    }
   ],
   "source": [
    "label_df = pd.read_csv('../data/cardiac_detection/rsna_heart_detection.csv')\n",
    "label_df.head()"
   ]
  },
  {
   "cell_type": "markdown",
   "metadata": {},
   "source": [
    "##### Set Directory"
   ]
  },
  {
   "cell_type": "code",
   "execution_count": 3,
   "metadata": {},
   "outputs": [],
   "source": [
    "ROOT_PATH = Path(\"../data/cardiac_detection/stage_2_train_images/\")\n",
    "SAVE_PATH = Path(\"../data/cardiac_detection/processed\")"
   ]
  },
  {
   "cell_type": "markdown",
   "metadata": {},
   "source": [
    "##### Read Image Function"
   ]
  },
  {
   "cell_type": "code",
   "execution_count": 4,
   "metadata": {},
   "outputs": [],
   "source": [
    "def dicomreadimage(name, root=ROOT_PATH):\n",
    "    dcmpath = root / f\"{name}.dcm\"\n",
    "    dcm = pydicom.dcmread(dcmpath)\n",
    "    img = dcm.pixel_array\n",
    "    # img = cv2.resize(img, (224,224))\n",
    "    return img"
   ]
  },
  {
   "cell_type": "markdown",
   "metadata": {},
   "source": [
    "##### Plot Sample Image"
   ]
  },
  {
   "cell_type": "code",
   "execution_count": null,
   "metadata": {},
   "outputs": [],
   "source": [
    "fig, ax = plt.subplots(2, 2, figsize=(4, 4))\n",
    "\n",
    "for i in range(2):\n",
    "    for j in range(2):\n",
    "        data = label_df.sample()\n",
    "        name = data[\"name\"].values[0]\n",
    "        img = dicomreadimage(name)\n",
    "\n",
    "        x = data[\"x0\"].values[0]\n",
    "        y = data[\"y0\"].values[0]\n",
    "        w = data[\"w\"].values[0]\n",
    "        h = data[\"h\"].values[0]\n",
    "\n",
    "        rect = patches.Rectangle((x,y),w,h,linewidth=1,edgecolor='r',facecolor='none')\n",
    "        ax[i,j].imshow(img, cmap=\"gray\")\n",
    "        ax[i,j].add_patch(rect)\n",
    "        ax[i,j].axis('off')"
   ]
  },
  {
   "cell_type": "markdown",
   "metadata": {},
   "source": [
    "##### Preprocess Image and Save it as numpy"
   ]
  },
  {
   "cell_type": "code",
   "execution_count": 5,
   "metadata": {},
   "outputs": [],
   "source": [
    "sums, sums_squared = 0, 0\n",
    "img_id = []\n",
    "\n",
    "for counter, name in enumerate(list(label_df.name)):\n",
    "    img = dicomreadimage(name)\n",
    "    img = (img / 255).astype(np.float16)\n",
    "    img_id.append(name)\n",
    "\n",
    "    save_path = SAVE_PATH / \"images\"\n",
    "    save_path.mkdir(parents=True, exist_ok=True)\n",
    "\n",
    "    np.save(save_path / name, img)\n",
    "\n",
    "    # normalizer = 224*224\n",
    "    # if train_or_val == \"train\":\n",
    "    #     sums += np.sum(img) / normalizer\n",
    "    #     sums_squared += np.sum(img**2) / normalizer\n",
    "    "
   ]
  },
  {
   "cell_type": "markdown",
   "metadata": {},
   "source": [
    "##### Save Train and Validation ID"
   ]
  },
  {
   "cell_type": "code",
   "execution_count": null,
   "metadata": {},
   "outputs": [],
   "source": [
    "np.save(SAVE_PATH / \"img_id\", img_id)"
   ]
  },
  {
   "cell_type": "markdown",
   "metadata": {},
   "source": [
    "##### Save Mean and Std"
   ]
  },
  {
   "cell_type": "code",
   "execution_count": null,
   "metadata": {},
   "outputs": [],
   "source": [
    "mean = sums / len(train_ids)\n",
    "std = np.sqrt(sums_squared / len(train_ids) - mean**2)\n",
    "\n",
    "mean_std = {\"mean\": mean, \"std\": std}\n",
    "np.save(SAVE_PATH / \"mean_std\", mean_std)"
   ]
  }
 ],
 "metadata": {
  "kernelspec": {
   "display_name": "Python 3.8.13 ('pytorch112_py38')",
   "language": "python",
   "name": "python3"
  },
  "language_info": {
   "codemirror_mode": {
    "name": "ipython",
    "version": 3
   },
   "file_extension": ".py",
   "mimetype": "text/x-python",
   "name": "python",
   "nbconvert_exporter": "python",
   "pygments_lexer": "ipython3",
   "version": "3.8.13"
  },
  "orig_nbformat": 4,
  "vscode": {
   "interpreter": {
    "hash": "176e86e6e21052ff89627b8e89e4f48b2aef17a8606feae6b75037084a2df81a"
   }
  }
 },
 "nbformat": 4,
 "nbformat_minor": 2
}
